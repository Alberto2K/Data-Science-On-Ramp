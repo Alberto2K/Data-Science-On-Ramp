{
 "cells": [
  {
   "cell_type": "markdown",
   "metadata": {},
   "source": [
    "## Parametric Tests: Tests Designed for Normally-Distributed Data\n",
    "- Dependent (Paired) T-Tests\n",
    "- Independent (Unpaired) T-Tests"
   ]
  },
  {
   "cell_type": "markdown",
   "metadata": {},
   "source": [
    "### Import Required Libraries"
   ]
  },
  {
   "cell_type": "code",
   "execution_count": null,
   "metadata": {
    "collapsed": true
   },
   "outputs": [],
   "source": [
    "import os\n",
    "import numpy as np\n",
    "import pandas as pd\n",
    "from math import sqrt\n",
    "from scipy import stats\n",
    "from scipy.stats import t\n",
    "from scipy.stats import ttest_ind, ttest_rel\n",
    "\n",
    "import matplotlib.mlab as mlab\n",
    "import matplotlib.pyplot as plt\n",
    "%matplotlib inline"
   ]
  },
  {
   "cell_type": "markdown",
   "metadata": {},
   "source": [
    "### Load the Data"
   ]
  },
  {
   "cell_type": "code",
   "execution_count": null,
   "metadata": {},
   "outputs": [],
   "source": [
    "# Locate the data file\n",
    "data_dir = os.path.join(os.getcwd(), 'Data')\n",
    "source_file = os.path.join(data_dir, 'Mice-Pheno.csv')\n",
    "\n",
    "# Read the source from the Web into a Pandas DataFrame.\n",
    "df = pd.read_csv(source_file, header=0)\n",
    "\n",
    "# Inspect the file contents\n",
    "df = df.dropna()\n",
    "df.head()"
   ]
  },
  {
   "cell_type": "markdown",
   "metadata": {},
   "source": [
    "#### Separate the Two Different Treatments"
   ]
  },
  {
   "cell_type": "code",
   "execution_count": null,
   "metadata": {
    "collapsed": true
   },
   "outputs": [],
   "source": [
    "high_fat = df[df.Diet == 'hf']\n",
    "chow = df[df.Diet == 'chow']"
   ]
  },
  {
   "cell_type": "markdown",
   "metadata": {
    "collapsed": true
   },
   "source": [
    "#### Separate the Two Groups (Samples)"
   ]
  },
  {
   "cell_type": "code",
   "execution_count": null,
   "metadata": {
    "collapsed": true
   },
   "outputs": [],
   "source": [
    "male = df[df.Sex == 'M']\n",
    "female = df[df.Sex == 'F']"
   ]
  },
  {
   "cell_type": "markdown",
   "metadata": {},
   "source": [
    "#### Define a Function to Calculate the Mean Difference and Confidence Interval"
   ]
  },
  {
   "cell_type": "code",
   "execution_count": null,
   "metadata": {
    "collapsed": true
   },
   "outputs": [],
   "source": [
    "def diff_mean_and_conf_intvl(sample_1, sample_2):\n",
    "    N1 = len(sample_1)\n",
    "    N2 = len(sample_2)\n",
    "    \n",
    "    # Degrees of Freedom\n",
    "    DoF = (N1 + N2 - 2) \n",
    "\n",
    "    std1 = sample_1.std()\n",
    "    std2 = sample_2.std()\n",
    "    std_N1N2 = sqrt( ((N1 - 1)*(std1)**2 + (N2 - 1)*(std2)**2) / DoF)\n",
    "\n",
    "    # Mean Difference\n",
    "    diff_mean = sample_1.mean() - sample_2.mean()\n",
    "    \n",
    "    # Margin of Error:\n",
    "    MoE = t.ppf(0.975, DoF) * std_N1N2 * sqrt(1/N1 + 1/N2)\n",
    "    \n",
    "    return diff_mean, MoE"
   ]
  },
  {
   "cell_type": "markdown",
   "metadata": {},
   "source": [
    "#### Independent (Unpaired) T-Test: Two Samples Exposed to the Same Treatment"
   ]
  },
  {
   "cell_type": "code",
   "execution_count": null,
   "metadata": {},
   "outputs": [],
   "source": [
    "hf_male = male[male.Diet == 'hf']\n",
    "hf_female = female[female.Diet == 'hf']\n",
    "\n",
    "t_stat, p_val = ttest_ind(hf_male.Bodyweight, hf_female.Bodyweight)\n",
    "\n",
    "print('The results of the independent t-test are: \\n\\tt-value = {:4.3f}\\n\\tp-value = {}'.format(t_stat, p_val))"
   ]
  },
  {
   "cell_type": "code",
   "execution_count": null,
   "metadata": {},
   "outputs": [],
   "source": [
    "# Calculate the Mean Difference and the 95% Confidence Interval\n",
    "diff_mean, MoE = diff_mean_and_conf_intvl(hf_male.Bodyweight, hf_female.Bodyweight)\n",
    "\n",
    "print('The difference between groups is %3.1f' % diff_mean)\n",
    "print('The 95% Confidence Interval is [{:3.1f} to {:3.1f}]'.format(diff_mean - MoE, diff_mean + MoE))"
   ]
  },
  {
   "cell_type": "markdown",
   "metadata": {},
   "source": [
    "#### Dependent (Paired) T-Test: Two Samples Exposed to Two Different Treatments"
   ]
  },
  {
   "cell_type": "code",
   "execution_count": null,
   "metadata": {},
   "outputs": [],
   "source": [
    "t_stat, p_val = ttest_rel(male[0:416].Bodyweight, female[0:416].Bodyweight)\n",
    "\n",
    "print('The results of the dependent t-test are: \\n - t-value = {:4.3f}\\n - p-value = {}'.format(t_stat, p_val))"
   ]
  },
  {
   "cell_type": "code",
   "execution_count": null,
   "metadata": {},
   "outputs": [],
   "source": [
    "# Calculate the Mean Difference and the 95% Confidence Interval\n",
    "diff_mean, MoE = diff_mean_and_conf_intvl(male[0:416].Bodyweight, female[0:416].Bodyweight)\n",
    "\n",
    "print('The difference between groups is %3.1f' % diff_mean)\n",
    "print('The 95% Confidence Interval is [{:3.1f} to {:3.1f}]'.format(diff_mean - MoE, diff_mean + MoE))"
   ]
  },
  {
   "cell_type": "code",
   "execution_count": null,
   "metadata": {
    "collapsed": true
   },
   "outputs": [],
   "source": []
  }
 ],
 "metadata": {
  "kernelspec": {
   "display_name": "Python 3",
   "language": "python",
   "name": "python3"
  },
  "language_info": {
   "codemirror_mode": {
    "name": "ipython",
    "version": 3
   },
   "file_extension": ".py",
   "mimetype": "text/x-python",
   "name": "python",
   "nbconvert_exporter": "python",
   "pygments_lexer": "ipython3",
   "version": "3.5.2"
  }
 },
 "nbformat": 4,
 "nbformat_minor": 1
}
