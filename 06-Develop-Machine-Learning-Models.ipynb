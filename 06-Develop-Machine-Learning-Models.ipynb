{
 "cells": [
  {
   "cell_type": "markdown",
   "metadata": {},
   "source": [
    "## Fit Machine Learning Models\n",
    "- Train and Test Models using a Variety of Appropriate [Classification] Algorithms\n",
    "- Tune (Optimize) Each Model''s Hyperparameters\n",
    "- Evaluate the Optimally-Fitted Models Against a Hold-Out (Out-of-Sample) Dataset\n",
    "- Perform K-Fold Cross-Validation Using Each Model\n",
    "- Determine Each Model''s Accuracy and Identify the Best Model."
   ]
  },
  {
   "cell_type": "markdown",
   "metadata": {},
   "source": [
    "### Import Required Libraries"
   ]
  },
  {
   "cell_type": "code",
   "execution_count": 1,
   "metadata": {},
   "outputs": [
    {
     "name": "stdout",
     "output_type": "stream",
     "text": [
      "SciKit-Learn Version: 0.18.1\n"
     ]
    },
    {
     "name": "stderr",
     "output_type": "stream",
     "text": [
      "C:\\ProgramData\\Anaconda3\\lib\\site-packages\\sklearn\\ensemble\\weight_boosting.py:29: DeprecationWarning: numpy.core.umath_tests is an internal NumPy module and should not be imported. It will be removed in a future NumPy release.\n",
      "  from numpy.core.umath_tests import inner1d\n"
     ]
    }
   ],
   "source": [
    "import os\n",
    "import numpy as np\n",
    "import pandas as pd\n",
    "\n",
    "import sklearn\n",
    "print(\"SciKit-Learn Version:\", sklearn.__version__)\n",
    "\n",
    "if sklearn.__version__ >= '0.18.0':  # Starting with sklearn version 18.0\n",
    "    from sklearn.model_selection import train_test_split, cross_val_score\n",
    "    from sklearn.model_selection import GridSearchCV, RandomizedSearchCV\n",
    "else:\n",
    "    from sklearn.cross_validation import train_test_split, cross_val_score\n",
    "    from sklearn.cross_validation import GridSearchCV, RandomizedSearchCV\n",
    "\n",
    "from sklearn.decomposition import PCA\n",
    "from sklearn.preprocessing import RobustScaler, StandardScaler, LabelEncoder\n",
    "from sklearn.ensemble import RandomForestClassifier, GradientBoostingClassifier, AdaBoostClassifier\n",
    "from sklearn.linear_model import LogisticRegression\n",
    "from sklearn.neighbors import KNeighborsClassifier\n",
    "from sklearn.tree import DecisionTreeClassifier\n",
    "from sklearn.metrics import accuracy_score, confusion_matrix, classification_report \n",
    "from sklearn.metrics import roc_curve, auc, roc_auc_score\n",
    "\n",
    "import matplotlib\n",
    "import matplotlib.pyplot as plt\n",
    "%matplotlib inline"
   ]
  },
  {
   "cell_type": "markdown",
   "metadata": {},
   "source": [
    "### Define Globals"
   ]
  },
  {
   "cell_type": "code",
   "execution_count": 2,
   "metadata": {
    "collapsed": true
   },
   "outputs": [],
   "source": [
    "hold_out_percent = 0.2\n",
    "CLASSIFICATION_TYPE = 'Binary'\n",
    "\n",
    "###################################################################################################################\n",
    "# Calculate the Null Accuracy Score: Accommodates Binary or Multiple Classification Type\n",
    "###################################################################################################################\n",
    "def null_accuracy_score(labels, classification_type):  #NOTE: 'labels' must be a pd.Series\n",
    "    if classification_type == CLASSIFICATION_TYPE:\n",
    "        return max(labels[:,].astype(int).mean(), 1 - labels[:,].astype(int).mean())\n",
    "    \n",
    "    elif classification_type == CLASSIFICATION_TYPE:\n",
    "        return labels.value_counts().head(1).item() / len(labels) \n",
    "    \n",
    "    else:\n",
    "        raise ValueError(\"Bad input {0}. Must specify either 'Binary' or 'Multiple'.\".format(classification_type))\n",
    "        \n",
    "\n",
    "##################################################################################################################\n",
    "# Print Evaluation Metrics: Accuracy and Null Accuracy Scores\n",
    "###################################################################################################################\n",
    "def show_accuracy(y_actuals, y_predictions, classification_type):\n",
    "    accuracy = accuracy_score(y_actuals, y_predictions)\n",
    "    null_accuracy = null_accuracy_score(y_actuals, classification_type)\n",
    "\n",
    "    print('----------------------------------------------------------------------------------')\n",
    "    print('Accuracy (The Percentage of Correct Predictions): %0.3f' % accuracy)\n",
    "    print('----------------------------------------------------------------------------------')\n",
    "    print('Null Accuracy (Achieved by Always Predicting the Most Frequent Class): %0.3f' % null_accuracy)\n",
    "    print('----------------------------------------------------------------------------------')   \n",
    "    print('True:', list(y_actuals[0:10]))\n",
    "    print('Pred:', y_predictions[0:10].tolist())\n",
    "    print('----------------------------------------------------------------------------------\\n')\n",
    "        \n",
    "\n",
    "###################################################################################################################\n",
    "# Print a Confusion Matrix:  Accommodates Binary or Multiple Classification Type\n",
    "###################################################################################################################\n",
    "def show_confusion_matrix(y_actuals, y_predictions, y_probabilities, classification_type):\n",
    "    print('-------------------------------------------------------')\n",
    "    print('Confusion Matrix')\n",
    "    print('-------------------------------------------------------')\n",
    "\n",
    "    cm = pd.crosstab(y_actuals, y_predictions, rownames=['Actuals'], colnames=['Predictions'])\n",
    "    print(cm)\n",
    "        \n",
    "    if classification_type == CLASSIFICATION_TYPE:\n",
    "        print('-------------------------------------------------------')\n",
    "        print('Area Under the Curve (AUC): %0.3f' % roc_auc_score(y_actuals, y_probabilities[:, 1]))\n",
    "        \n",
    "    print('-------------------------------------------------------\\n')\n",
    "    \n",
    "    \n",
    "###################################################################################################################\n",
    "# Print a Classification Report\n",
    "###################################################################################################################\n",
    "def show_classification_report(y_actuals, y_predictions):\n",
    "    print('-------------------------------------------------------')\n",
    "    print('Classification Report')\n",
    "    print('-------------------------------------------------------')\n",
    "    print(classification_report(y_actuals, y_predictions))\n",
    "    print('-------------------------------------------------------\\n')\n",
    "    \n",
    "\n",
    "###################################################################################################################\n",
    "# Print a Receiver Operating Characteristic (ROC) Curve Plot (Binary Classification Only).\n",
    "###################################################################################################################\n",
    "def show_roc_plot(y_actuals, y_probabilities, classifier_algorithm):\n",
    "    plt.figure(figsize=(5,5))\n",
    "    plt.title('ROC Curve (' + classifier_algorithm + ')')\n",
    "\n",
    "    fpr, tpr, _ = roc_curve(y_actuals, y_probabilities[:, 1])\n",
    "    auc = roc_auc_score(y_actuals, y_probabilities[:, 1])\n",
    "\n",
    "    plt.plot(fpr, tpr, color='darkorange', label='ROC Curve (area = %0.2f)' % auc)\n",
    "    plt.plot([0,1], [0,1], color='steelblue', lw=2, linestyle='--')\n",
    "    plt.xlim([0.0, 1.0])\n",
    "    plt.ylim([0.0, 1.05])\n",
    "    plt.xlabel('False Positive Rate')\n",
    "    plt.ylabel('True Positive Rate')\n",
    "    plt.legend(loc='lower right')\n",
    "    plt.show()"
   ]
  },
  {
   "cell_type": "markdown",
   "metadata": {},
   "source": [
    "### Load Data"
   ]
  },
  {
   "cell_type": "code",
   "execution_count": 3,
   "metadata": {},
   "outputs": [
    {
     "name": "stdout",
     "output_type": "stream",
     "text": [
      "DataSet Dimensions: (7043, 21)\n"
     ]
    }
   ],
   "source": [
    "# Locate the Data File to be Ingested.\n",
    "data_dir = os.path.join(os.getcwd(), 'Data')\n",
    "source_file = os.path.join(data_dir, 'WA-Telco-Customer-Churn-ML.xlsx')\n",
    "\n",
    "# Read the Data from the Source File\n",
    "df = pd.read_excel(source_file, header=0)\n",
    "\n",
    "# Display the Dimensions of the DataSet Being Used.\n",
    "print(\"DataSet Dimensions:\", df.shape)"
   ]
  },
  {
   "cell_type": "markdown",
   "metadata": {},
   "source": [
    "#### Make Appropriate Data Type Assignments."
   ]
  },
  {
   "cell_type": "code",
   "execution_count": 4,
   "metadata": {},
   "outputs": [
    {
     "data": {
      "text/plain": [
       "customerID            object\n",
       "gender              category\n",
       "SeniorCitizen       category\n",
       "Partner             category\n",
       "Dependents          category\n",
       "tenure                  int8\n",
       "PhoneService        category\n",
       "MultipleLines       category\n",
       "InternetService     category\n",
       "OnlineSecurity      category\n",
       "OnlineBackup        category\n",
       "DeviceProtection    category\n",
       "TechSupport         category\n",
       "StreamingTV         category\n",
       "StreamingMovies     category\n",
       "Contract            category\n",
       "PaperlessBilling    category\n",
       "PaymentMethod       category\n",
       "MonthlyCharges       float32\n",
       "TotalCharges         float32\n",
       "Churn               category\n",
       "dtype: object"
      ]
     },
     "execution_count": 4,
     "metadata": {},
     "output_type": "execute_result"
    }
   ],
   "source": [
    "df.gender = df.gender.astype('category')\n",
    "df.SeniorCitizen = df.SeniorCitizen.astype('category')\n",
    "df.Partner = df.Partner.astype('category')\n",
    "df.Dependents = df.Dependents.astype('category')\n",
    "df.tenure = pd.to_numeric(df.tenure, downcast='integer', errors='coerce')\n",
    "df.PhoneService = df.PhoneService.astype('category')\n",
    "df.MultipleLines = df.MultipleLines.astype('category')\n",
    "df.InternetService = df.InternetService.astype('category')\n",
    "df.OnlineSecurity = df.OnlineSecurity.astype('category')\n",
    "df.OnlineBackup = df.OnlineBackup.astype('category')\n",
    "df.DeviceProtection = df.DeviceProtection.astype('category')\n",
    "df.TechSupport = df.TechSupport.astype('category')\n",
    "df.StreamingTV = df.StreamingTV.astype('category')\n",
    "df.StreamingMovies = df.StreamingMovies.astype('category')\n",
    "df.Contract = df.Contract.astype('category')\n",
    "df.PaperlessBilling = df.PaperlessBilling.astype('category')\n",
    "df.PaymentMethod = df.PaymentMethod.astype('category')\n",
    "df.MonthlyCharges = pd.to_numeric(df.MonthlyCharges, downcast='float', errors='coerce')\n",
    "df.TotalCharges = pd.to_numeric(df.TotalCharges, downcast='float', errors='coerce')\n",
    "df.Churn = df.Churn.astype('category')\n",
    "df.dtypes"
   ]
  },
  {
   "cell_type": "markdown",
   "metadata": {},
   "source": [
    "#### Separate the Predictors from the Response."
   ]
  },
  {
   "cell_type": "code",
   "execution_count": 5,
   "metadata": {
    "collapsed": true
   },
   "outputs": [],
   "source": [
    "# Separate the Dependant Variable (Target, Response, Label) from the Independant Variables (Predictor).\n",
    "X = df.drop(labels=['customerID', 'Churn'], axis=1)\n",
    "y = df.Churn"
   ]
  },
  {
   "cell_type": "markdown",
   "metadata": {},
   "source": [
    "#### Create a Hold-Out Data Set for Model Evaluation"
   ]
  },
  {
   "cell_type": "code",
   "execution_count": 6,
   "metadata": {},
   "outputs": [
    {
     "name": "stdout",
     "output_type": "stream",
     "text": [
      "-------------------------------------------------------------------\n",
      "Train/Test Observations: (5634, 19)\n",
      "Evaluation Observations: (1409, 19)\n",
      "-------------------------------------------------------------------\n",
      "\n",
      "Train/Test Label Distribution:\n",
      " 0    4138\n",
      "1    1496\n",
      "Name: Churn, dtype: int64\n",
      "-------------------------------------------------------------------\n",
      "Evaluation Label Distribution:\n",
      " 0    1036\n",
      "1     373\n",
      "Name: Churn, dtype: int64\n",
      "-------------------------------------------------------------------\n"
     ]
    }
   ],
   "source": [
    "# Divide into Train/Test and Evaluation (Hold-Out) Sets.\n",
    "X, X_eval, y, y_eval = train_test_split(X, y, test_size = hold_out_percent, random_state=42)\n",
    "\n",
    "# Use 80% of the observations for training and testing...\n",
    "print('-------------------------------------------------------------------')\n",
    "print(\"Train/Test Observations:\", X.shape)\n",
    "\n",
    "# ...And hod out the rest for final evaluation.\n",
    "print(\"Evaluation Observations:\", X_eval.shape)\n",
    "print('-------------------------------------------------------------------\\n')\n",
    "\n",
    "# Examine the distribution of Labels for the two datasets.\n",
    "print(\"Train/Test Label Distribution:\\n\", y.value_counts())\n",
    "print('-------------------------------------------------------------------')\n",
    "print(\"Evaluation Label Distribution:\\n\", y_eval.value_counts())\n",
    "print('-------------------------------------------------------------------')"
   ]
  },
  {
   "cell_type": "markdown",
   "metadata": {},
   "source": [
    "#### Create Training and Testing Datasets "
   ]
  },
  {
   "cell_type": "code",
   "execution_count": 7,
   "metadata": {},
   "outputs": [
    {
     "name": "stdout",
     "output_type": "stream",
     "text": [
      "-------------------------------------------------------------------\n",
      "Training Observations: (4507, 19)\n",
      "Testing Observations: (1127, 19)\n",
      "-------------------------------------------------------------------\n",
      "\n",
      "Training Label Distribution:\n",
      " 0    3316\n",
      "1    1191\n",
      "Name: Churn, dtype: int64\n",
      "-------------------------------------------------------------------\n",
      "Testing Label Distribution:\n",
      " 0    822\n",
      "1    305\n",
      "Name: Churn, dtype: int64\n",
      "-------------------------------------------------------------------\n"
     ]
    }
   ],
   "source": [
    "X_train, X_test, y_train, y_test = train_test_split(X, y, test_size=0.2, random_state=42)\n",
    "\n",
    "# Use 60% of the observations for training...\n",
    "print('-------------------------------------------------------------------')\n",
    "print(\"Training Observations:\", X_train.shape)\n",
    "\n",
    "# ...And use the rest for testing.\n",
    "print(\"Testing Observations:\", X_test.shape)\n",
    "print('-------------------------------------------------------------------\\n')\n",
    "\n",
    "# Examine the distribution of Labels for the two datasets.\n",
    "print(\"Training Label Distribution:\\n\", y_train.value_counts())\n",
    "print('-------------------------------------------------------------------')\n",
    "print(\"Testing Label Distribution:\\n\", y_test.value_counts())\n",
    "print('-------------------------------------------------------------------')"
   ]
  },
  {
   "cell_type": "markdown",
   "metadata": {},
   "source": [
    "#### Perform Scalar Normalization of Each Dataset."
   ]
  },
  {
   "cell_type": "code",
   "execution_count": 8,
   "metadata": {
    "collapsed": true
   },
   "outputs": [],
   "source": [
    "sc = StandardScaler()\n",
    "\n",
    "X_train = sc.fit_transform(X_train)\n",
    "X_test = sc.transform(X_test)\n",
    "\n",
    "X = sc.fit_transform(X)\n",
    "X_eval = sc.transform(X_eval)"
   ]
  },
  {
   "cell_type": "markdown",
   "metadata": {},
   "source": [
    "### Use Principal Component Analysis (PCA) for Parameter Reduction"
   ]
  },
  {
   "cell_type": "code",
   "execution_count": 9,
   "metadata": {},
   "outputs": [
    {
     "name": "stdout",
     "output_type": "stream",
     "text": [
      "-------------------------------------------------------------------\n",
      "[0.22109351 0.12178083 0.07855374 0.06439829 0.05586759 0.05281484\n",
      " 0.04937758 0.04587222 0.04240616 0.04123619 0.03776866 0.03702492\n",
      " 0.03675305 0.02998517 0.02966082 0.02514756 0.01701584 0.01041839]\n",
      "-------------------------------------------------------------------\n",
      "Total Variance Explained: 0.9972\n",
      "-------------------------------------------------------------------\n",
      "Wall time: 256 ms\n"
     ]
    }
   ],
   "source": [
    "%%time\n",
    "\n",
    "# Define the Number of Components to Target\n",
    "n_components = 18\n",
    "\n",
    "# Get the range of components\n",
    "components = list(range(1, n_components+1))\n",
    "\n",
    "pca = PCA(n_components=n_components)\n",
    "\n",
    "# Reduce the data, outputting an ndarray\n",
    "X_train = pca.fit_transform(X_train)\n",
    "X_test = pca.transform(X_test)\n",
    "\n",
    "# Get the explained variance associated with each component.\n",
    "explained_variance = pca.explained_variance_ratio_\n",
    "\n",
    "# Print out the explained variance associated with each component.\n",
    "print('-------------------------------------------------------------------')\n",
    "print(explained_variance)\n",
    "print('-------------------------------------------------------------------')\n",
    "print(\"Total Variance Explained: %0.4f\" % sum(explained_variance))\n",
    "print('-------------------------------------------------------------------')"
   ]
  },
  {
   "cell_type": "markdown",
   "metadata": {},
   "source": [
    "##### Use a Skree Plot to Illustrate the Explained Variance of Each Component"
   ]
  },
  {
   "cell_type": "code",
   "execution_count": 10,
   "metadata": {},
   "outputs": [
    {
     "data": {
      "image/png": "[encoded data removed]",
      "text/plain": [
       "<matplotlib.figure.Figure at 0x253addcb0b8>"
      ]
     },
     "metadata": {},
     "output_type": "display_data"
    }
   ],
   "source": [
    "fig = plt.figure(figsize=(8,4))\n",
    "plt.scatter(components, explained_variance)\n",
    "plt.grid(True)\n",
    "plt.ylabel('Explained Variance (Eigenvalues)')\n",
    "plt.xlabel('Components (Eigenvectors)')\n",
    "plt.show()"
   ]
  },
  {
   "cell_type": "markdown",
   "metadata": {},
   "source": [
    "##### Perform PCA Parameter Reduction on the Hold-Out Data"
   ]
  },
  {
   "cell_type": "code",
   "execution_count": 11,
   "metadata": {},
   "outputs": [
    {
     "name": "stdout",
     "output_type": "stream",
     "text": [
      "-------------------------------------------------------------------\n",
      "[0.22268568 0.12169782 0.07852919 0.06392973 0.05598127 0.05278273\n",
      " 0.04972987 0.0459601  0.04251888 0.04090496 0.03763186 0.03678124\n",
      " 0.03643007 0.03020616 0.02957181 0.02465513 0.01688429 0.01031678]\n",
      "-------------------------------------------------------------------\n",
      "Total Variance Explained: 0.9972\n",
      "-------------------------------------------------------------------\n",
      "Wall time: 42.5 ms\n"
     ]
    }
   ],
   "source": [
    "%%time\n",
    "\n",
    "pca_holdout = PCA(n_components=n_components)\n",
    "\n",
    "# Reduce the data, outputting an ndarray\n",
    "X = pca_holdout.fit_transform(X)\n",
    "X_eval = pca_holdout.transform(X_eval)\n",
    "\n",
    "# Get the explained variance associated with each component.\n",
    "explained_variance = pca_holdout.explained_variance_ratio_\n",
    "\n",
    "# Print out the explained variance associated with each component.\n",
    "print('-------------------------------------------------------------------')\n",
    "print(explained_variance)\n",
    "print('-------------------------------------------------------------------')\n",
    "print(\"Total Variance Explained: %0.4f\" % sum(explained_variance))\n",
    "print('-------------------------------------------------------------------')"
   ]
  },
  {
   "cell_type": "markdown",
   "metadata": {},
   "source": [
    "##### Use a Skree Plot to Illustrate the Explained Variance of Each Component"
   ]
  },
  {
   "cell_type": "code",
   "execution_count": 12,
   "metadata": {},
   "outputs": [
    {
     "data": {
      "image/png": "[encoded data removed]",
      "text/plain": [
       "<matplotlib.figure.Figure at 0x253af3547f0>"
      ]
     },
     "metadata": {},
     "output_type": "display_data"
    }
   ],
   "source": [
    "fig = plt.figure(figsize=(8,4))\n",
    "plt.scatter(components, explained_variance)\n",
    "plt.grid(True)\n",
    "plt.ylabel('Explained Variance (Eigenvalues)')\n",
    "plt.xlabel('Components (Eigenvectors)')\n",
    "plt.show()"
   ]
  },
  {
   "cell_type": "markdown",
   "metadata": {},
   "source": [
    "### Train a Classification Model Using the RandomForestsClassifier "
   ]
  },
  {
   "cell_type": "code",
   "execution_count": 13,
   "metadata": {},
   "outputs": [
    {
     "name": "stdout",
     "output_type": "stream",
     "text": [
      "Wall time: 435 ms\n"
     ]
    }
   ],
   "source": [
    "%%time\n",
    "\n",
    "# Train using the Training data.\n",
    "rfc = RandomForestClassifier(random_state=42)\n",
    "rfc.fit(X_train, y_train)\n",
    "\n",
    "# Make Predictions using the Test data.\n",
    "y_pred = rfc.predict(X_test)\n",
    "y_probs = rfc.predict_proba(X_test)"
   ]
  },
  {
   "cell_type": "markdown",
   "metadata": {},
   "source": [
    "#### Evaluate the Model's Efficacy using Metrics, a Confusion Matrix and Classification Report"
   ]
  },
  {
   "cell_type": "code",
   "execution_count": 14,
   "metadata": {},
   "outputs": [
    {
     "name": "stdout",
     "output_type": "stream",
     "text": [
      "----------------------------------------------------------------------------------\n",
      "Accuracy (The Percentage of Correct Predictions): 0.761\n",
      "----------------------------------------------------------------------------------\n",
      "Null Accuracy (Achieved by Always Predicting the Most Frequent Class): 0.729\n",
      "----------------------------------------------------------------------------------\n",
      "True: [0, 0, 1, 1, 0, 0, 0, 0, 0, 0]\n",
      "Pred: [0, 1, 0, 1, 0, 0, 0, 0, 0, 0]\n",
      "----------------------------------------------------------------------------------\n",
      "\n",
      "-------------------------------------------------------\n",
      "Confusion Matrix\n",
      "-------------------------------------------------------\n",
      "Predictions    0    1\n",
      "Actuals              \n",
      "0            744   78\n",
      "1            191  114\n",
      "-------------------------------------------------------\n",
      "Area Under the Curve (AUC): 0.764\n",
      "-------------------------------------------------------\n",
      "\n",
      "-------------------------------------------------------\n",
      "Classification Report\n",
      "-------------------------------------------------------\n",
      "             precision    recall  f1-score   support\n",
      "\n",
      "          0       0.80      0.91      0.85       822\n",
      "          1       0.59      0.37      0.46       305\n",
      "\n",
      "avg / total       0.74      0.76      0.74      1127\n",
      "\n",
      "-------------------------------------------------------\n",
      "\n"
     ]
    },
    {
     "data": {
      "image/png": "[encoded data removed]",
      "text/plain": [
       "<matplotlib.figure.Figure at 0x253af957860>"
      ]
     },
     "metadata": {},
     "output_type": "display_data"
    }
   ],
   "source": [
    "show_accuracy(y_test, y_pred, CLASSIFICATION_TYPE)\n",
    "show_confusion_matrix(y_test, y_pred, y_probs, CLASSIFICATION_TYPE)\n",
    "show_classification_report(y_test, y_pred)\n",
    "\n",
    "if CLASSIFICATION_TYPE == 'Binary':\n",
    "    show_roc_plot(y_test, y_probs, 'Random Forests Classifier')"
   ]
  },
  {
   "cell_type": "markdown",
   "metadata": {},
   "source": [
    "#### Perform Hyperparameter Tuning for the Random Forests Classifier"
   ]
  },
  {
   "cell_type": "code",
   "execution_count": 15,
   "metadata": {},
   "outputs": [
    {
     "name": "stdout",
     "output_type": "stream",
     "text": [
      "Wall time: 27.2 s\n"
     ]
    }
   ],
   "source": [
    "%%time\n",
    "\n",
    "# Define the parameter values to be searched\n",
    "estimator_range = list(range(2, 21))\n",
    "criterion_options = ['gini','entropy']\n",
    "max_features_options = [None, 'auto','sqrt','log2']\n",
    "max_depth_range = list(range(2, 21))\n",
    "\n",
    "# Create parameter distributions\n",
    "param_dist = dict(n_estimators = estimator_range\n",
    "                  , max_features = max_features_options\n",
    "                  , criterion = criterion_options\n",
    "                  , max_depth = max_depth_range\n",
    "                 )\n",
    "\n",
    "# Instantiate the grid\n",
    "rand = RandomizedSearchCV(rfc, param_dist, cv=10, scoring='accuracy', n_iter=10, random_state=42, n_jobs=-1) \n",
    "rand.return_train_score=False\n",
    "\n",
    "# Finally, fit the grid\n",
    "rand.fit(X_train, y_train)"
   ]
  },
  {
   "cell_type": "code",
   "execution_count": 16,
   "metadata": {},
   "outputs": [
    {
     "data": {
      "text/html": [
       "<div>\n",
       "<style>\n",
       "    .dataframe thead tr:only-child th {\n",
       "        text-align: right;\n",
       "    }\n",
       "\n",
       "    .dataframe thead th {\n",
       "        text-align: left;\n",
       "    }\n",
       "\n",
       "    .dataframe tbody tr th {\n",
       "        vertical-align: top;\n",
       "    }\n",
       "</style>\n",
       "<table border=\"1\" class=\"dataframe\">\n",
       "  <thead>\n",
       "    <tr style=\"text-align: right;\">\n",
       "      <th></th>\n",
       "      <th>mean_test_score</th>\n",
       "      <th>std_test_score</th>\n",
       "      <th>params</th>\n",
       "    </tr>\n",
       "  </thead>\n",
       "  <tbody>\n",
       "    <tr>\n",
       "      <th>0</th>\n",
       "      <td>0.758154</td>\n",
       "      <td>0.011863</td>\n",
       "      <td>{'n_estimators': 7, 'max_features': 'auto', 'm...</td>\n",
       "    </tr>\n",
       "    <tr>\n",
       "      <th>1</th>\n",
       "      <td>0.758154</td>\n",
       "      <td>0.010716</td>\n",
       "      <td>{'n_estimators': 4, 'max_features': None, 'max...</td>\n",
       "    </tr>\n",
       "    <tr>\n",
       "      <th>2</th>\n",
       "      <td>0.769692</td>\n",
       "      <td>0.012995</td>\n",
       "      <td>{'n_estimators': 11, 'max_features': 'log2', '...</td>\n",
       "    </tr>\n",
       "    <tr>\n",
       "      <th>3</th>\n",
       "      <td>0.772798</td>\n",
       "      <td>0.007820</td>\n",
       "      <td>{'n_estimators': 14, 'max_features': 'auto', '...</td>\n",
       "    </tr>\n",
       "    <tr>\n",
       "      <th>4</th>\n",
       "      <td>0.762148</td>\n",
       "      <td>0.013032</td>\n",
       "      <td>{'n_estimators': 6, 'max_features': 'sqrt', 'm...</td>\n",
       "    </tr>\n",
       "    <tr>\n",
       "      <th>5</th>\n",
       "      <td>0.771023</td>\n",
       "      <td>0.015501</td>\n",
       "      <td>{'n_estimators': 5, 'max_features': 'sqrt', 'm...</td>\n",
       "    </tr>\n",
       "    <tr>\n",
       "      <th>6</th>\n",
       "      <td>0.782117</td>\n",
       "      <td>0.010076</td>\n",
       "      <td>{'n_estimators': 12, 'max_features': None, 'ma...</td>\n",
       "    </tr>\n",
       "    <tr>\n",
       "      <th>7</th>\n",
       "      <td>0.746838</td>\n",
       "      <td>0.013565</td>\n",
       "      <td>{'n_estimators': 5, 'max_features': 'auto', 'm...</td>\n",
       "    </tr>\n",
       "    <tr>\n",
       "      <th>8</th>\n",
       "      <td>0.785667</td>\n",
       "      <td>0.011275</td>\n",
       "      <td>{'n_estimators': 9, 'max_features': 'auto', 'm...</td>\n",
       "    </tr>\n",
       "    <tr>\n",
       "      <th>9</th>\n",
       "      <td>0.735523</td>\n",
       "      <td>0.000715</td>\n",
       "      <td>{'n_estimators': 2, 'max_features': 'sqrt', 'm...</td>\n",
       "    </tr>\n",
       "  </tbody>\n",
       "</table>\n",
       "</div>"
      ],
      "text/plain": [
       "   mean_test_score  std_test_score  \\\n",
       "0         0.758154        0.011863   \n",
       "1         0.758154        0.010716   \n",
       "2         0.769692        0.012995   \n",
       "3         0.772798        0.007820   \n",
       "4         0.762148        0.013032   \n",
       "5         0.771023        0.015501   \n",
       "6         0.782117        0.010076   \n",
       "7         0.746838        0.013565   \n",
       "8         0.785667        0.011275   \n",
       "9         0.735523        0.000715   \n",
       "\n",
       "                                              params  \n",
       "0  {'n_estimators': 7, 'max_features': 'auto', 'm...  \n",
       "1  {'n_estimators': 4, 'max_features': None, 'max...  \n",
       "2  {'n_estimators': 11, 'max_features': 'log2', '...  \n",
       "3  {'n_estimators': 14, 'max_features': 'auto', '...  \n",
       "4  {'n_estimators': 6, 'max_features': 'sqrt', 'm...  \n",
       "5  {'n_estimators': 5, 'max_features': 'sqrt', 'm...  \n",
       "6  {'n_estimators': 12, 'max_features': None, 'ma...  \n",
       "7  {'n_estimators': 5, 'max_features': 'auto', 'm...  \n",
       "8  {'n_estimators': 9, 'max_features': 'auto', 'm...  \n",
       "9  {'n_estimators': 2, 'max_features': 'sqrt', 'm...  "
      ]
     },
     "execution_count": 16,
     "metadata": {},
     "output_type": "execute_result"
    }
   ],
   "source": [
    "# View the results\n",
    "pd.DataFrame(rand.cv_results_)[['mean_test_score', 'std_test_score', 'params']]"
   ]
  },
  {
   "cell_type": "code",
   "execution_count": 17,
   "metadata": {},
   "outputs": [
    {
     "name": "stdout",
     "output_type": "stream",
     "text": [
      "-------------------------------------------------------------------\n",
      "Mean Test Scores: [0.75815398 0.75815398 0.76969159 0.77279787 0.76214777 0.77102285\n",
      " 0.78211671 0.74683825 0.78566674 0.73552252]\n",
      "-------------------------------------------------------------------\n",
      "Estimator Values: [2, 4, 5, 5, 6, 7, 9, 11, 12, 14]\n",
      "-------------------------------------------------------------------\n"
     ]
    }
   ],
   "source": [
    "dist_mean_scores = rand.cv_results_['mean_test_score']\n",
    "param_estimators = rand.cv_results_['params']\n",
    "items = list(range(0, len(param_estimators)))\n",
    "\n",
    "estimators = []\n",
    "\n",
    "for i in items:\n",
    "    estimators.append(param_estimators[i]['n_estimators'])\n",
    "    estimators.sort()\n",
    "    \n",
    "print('-------------------------------------------------------------------')    \n",
    "print('Mean Test Scores:', dist_mean_scores)\n",
    "print('-------------------------------------------------------------------')\n",
    "print('Estimator Values:', estimators)\n",
    "print('-------------------------------------------------------------------')"
   ]
  },
  {
   "cell_type": "code",
   "execution_count": 18,
   "metadata": {},
   "outputs": [
    {
     "data": {
      "text/plain": [
       "<matplotlib.text.Text at 0x253af354ac8>"
      ]
     },
     "execution_count": 18,
     "metadata": {},
     "output_type": "execute_result"
    },
    {
     "data": {
      "image/png": "[encoded data removed]",
      "text/plain": [
       "<matplotlib.figure.Figure at 0x253a3f5df28>"
      ]
     },
     "metadata": {},
     "output_type": "display_data"
    }
   ],
   "source": [
    "# Plot the scores\n",
    "plt.title('Mean Test Scores by Number of Estimators')\n",
    "plt.plot(estimators, dist_mean_scores, color='steelblue')\n",
    "plt.xlabel('Number of Estimators')\n",
    "plt.ylabel('Mean Test Scores')"
   ]
  },
  {
   "cell_type": "code",
   "execution_count": 19,
   "metadata": {},
   "outputs": [
    {
     "name": "stdout",
     "output_type": "stream",
     "text": [
      "0.7856667406256934\n",
      "{'n_estimators': 9, 'max_features': 'auto', 'max_depth': 6, 'criterion': 'gini'}\n",
      "RandomForestClassifier(bootstrap=True, class_weight=None, criterion='gini',\n",
      "            max_depth=6, max_features='auto', max_leaf_nodes=None,\n",
      "            min_impurity_split=1e-07, min_samples_leaf=1,\n",
      "            min_samples_split=2, min_weight_fraction_leaf=0.0,\n",
      "            n_estimators=9, n_jobs=1, oob_score=False, random_state=42,\n",
      "            verbose=0, warm_start=False)\n"
     ]
    }
   ],
   "source": [
    "# Examine the best score\n",
    "print(rand.best_score_)\n",
    "print(rand.best_params_)\n",
    "print(rand.best_estimator_)"
   ]
  },
  {
   "cell_type": "markdown",
   "metadata": {},
   "source": [
    "#### Use the Best Parameters to Make Predictions Using the Hold-Out Data"
   ]
  },
  {
   "cell_type": "code",
   "execution_count": 20,
   "metadata": {},
   "outputs": [
    {
     "name": "stdout",
     "output_type": "stream",
     "text": [
      "Wall time: 190 ms\n"
     ]
    }
   ],
   "source": [
    "%%time\n",
    "\n",
    "n_estimators = rand.best_params_['n_estimators']\n",
    "max_feature = rand.best_params_['max_features']\n",
    "max_depth = rand.best_params_['max_depth']\n",
    "criteria = rand.best_params_['criterion']\n",
    "\n",
    "rfc = RandomForestClassifier(n_estimators = n_estimators\n",
    "                             , max_features = max_feature\n",
    "                             , criterion = criteria\n",
    "                             , max_depth = max_depth\n",
    "                             , random_state = 42\n",
    "                            )\n",
    "rfc.fit(X, y)\n",
    "\n",
    "y_pred = rand.predict(X_eval)\n",
    "y_probs = rand.predict_proba(X_eval)"
   ]
  },
  {
   "cell_type": "markdown",
   "metadata": {},
   "source": [
    "#### Evaluate the Model's Efficacy using Metrics, a Confusion Matrix and Classification Report"
   ]
  },
  {
   "cell_type": "code",
   "execution_count": 21,
   "metadata": {},
   "outputs": [
    {
     "name": "stdout",
     "output_type": "stream",
     "text": [
      "----------------------------------------------------------------------------------\n",
      "Accuracy (The Percentage of Correct Predictions): 0.783\n",
      "----------------------------------------------------------------------------------\n",
      "Null Accuracy (Achieved by Always Predicting the Most Frequent Class): 0.735\n",
      "----------------------------------------------------------------------------------\n",
      "True: [1, 0, 0, 1, 0, 1, 0, 0, 1, 1]\n",
      "Pred: [0, 0, 0, 1, 0, 0, 0, 0, 0, 0]\n",
      "----------------------------------------------------------------------------------\n",
      "\n",
      "-------------------------------------------------------\n",
      "Confusion Matrix\n",
      "-------------------------------------------------------\n",
      "Predictions    0    1\n",
      "Actuals              \n",
      "0            968   68\n",
      "1            238  135\n",
      "-------------------------------------------------------\n",
      "Area Under the Curve (AUC): 0.819\n",
      "-------------------------------------------------------\n",
      "\n",
      "-------------------------------------------------------\n",
      "Classification Report\n",
      "-------------------------------------------------------\n",
      "             precision    recall  f1-score   support\n",
      "\n",
      "          0       0.80      0.93      0.86      1036\n",
      "          1       0.67      0.36      0.47       373\n",
      "\n",
      "avg / total       0.77      0.78      0.76      1409\n",
      "\n",
      "-------------------------------------------------------\n",
      "\n"
     ]
    },
    {
     "data": {
      "image/png": "[encoded data removed]",
      "text/plain": [
       "<matplotlib.figure.Figure at 0x253af65de80>"
      ]
     },
     "metadata": {},
     "output_type": "display_data"
    }
   ],
   "source": [
    "show_accuracy(y_eval, y_pred, CLASSIFICATION_TYPE)\n",
    "show_confusion_matrix(y_eval, y_pred, y_probs, CLASSIFICATION_TYPE)\n",
    "show_classification_report(y_eval, y_pred)\n",
    "\n",
    "if CLASSIFICATION_TYPE == 'Binary':\n",
    "    show_roc_plot(y_eval, y_probs, 'Random Forests Classifier')"
   ]
  },
  {
   "cell_type": "markdown",
   "metadata": {},
   "source": [
    "#### Compare Model Accuracy Using K-Fold Cross-Validation"
   ]
  },
  {
   "cell_type": "code",
   "execution_count": 22,
   "metadata": {},
   "outputs": [
    {
     "name": "stdout",
     "output_type": "stream",
     "text": [
      "-------------------------------------------------------------------\n",
      "Accuracy Score per Fold:  [0.76595745 0.81028369 0.78014184 0.79964539 0.79432624 0.7712766\n",
      " 0.78330373 0.79218472 0.77758007 0.77046263]\n",
      "-------------------------------------------------------------------\n",
      "Average Accuracy Score: 0.785\n",
      "-------------------------------------------------------------------\n",
      "Wall time: 1.51 s\n"
     ]
    }
   ],
   "source": [
    "%%time\n",
    "\n",
    "scores = cross_val_score(rfc, X, y, cv=10, scoring='accuracy')\n",
    "\n",
    "print('-------------------------------------------------------------------')\n",
    "print(\"Accuracy Score per Fold: \", scores)\n",
    "print('-------------------------------------------------------------------')\n",
    "print(\"Average Accuracy Score: %0.3f\" % scores.mean())\n",
    "print('-------------------------------------------------------------------')"
   ]
  },
  {
   "cell_type": "markdown",
   "metadata": {},
   "source": [
    "### Train a Classifier Using K-Nearest Neighbors and K-Fold Cross-Validation"
   ]
  },
  {
   "cell_type": "code",
   "execution_count": 23,
   "metadata": {},
   "outputs": [
    {
     "name": "stdout",
     "output_type": "stream",
     "text": [
      "-------------------------------------------------------------------\n",
      "Accuracy Score per Fold:  [0.75177305 0.7606383  0.75531915 0.7535461  0.75       0.75177305\n",
      " 0.74777975 0.75843694 0.7366548  0.74911032]\n",
      "-------------------------------------------------------------------\n",
      "Average Accuracy Score: 0.752\n",
      "-------------------------------------------------------------------\n",
      "Wall time: 2.77 s\n"
     ]
    }
   ],
   "source": [
    "%%time\n",
    "\n",
    "knn = KNeighborsClassifier()\n",
    "scores = cross_val_score(knn, X, y, cv=10, scoring='accuracy')\n",
    "\n",
    "print('-------------------------------------------------------------------')\n",
    "print(\"Accuracy Score per Fold: \", scores)\n",
    "print('-------------------------------------------------------------------')\n",
    "print(\"Average Accuracy Score: %0.3f\" % scores.mean())\n",
    "print('-------------------------------------------------------------------')"
   ]
  },
  {
   "cell_type": "markdown",
   "metadata": {},
   "source": [
    "#### Perform Hyperparameter Tuning"
   ]
  },
  {
   "cell_type": "code",
   "execution_count": 24,
   "metadata": {},
   "outputs": [
    {
     "name": "stdout",
     "output_type": "stream",
     "text": [
      "Wall time: 1min 3s\n"
     ]
    }
   ],
   "source": [
    "%%time\n",
    "\n",
    "# Define the parameter values to be searched\n",
    "k_range = list(range(2, 26))\n",
    "weight_options = ['uniform','distance']\n",
    "\n",
    "# Create a parameter grid\n",
    "param_grid = dict(n_neighbors=k_range, weights=weight_options)\n",
    "\n",
    "# Instantiate the grid\n",
    "grid = GridSearchCV(knn, param_grid, cv=10, scoring='accuracy', return_train_score=False, n_jobs=-1)\n",
    "\n",
    "# Finally, fit the grid\n",
    "grid.fit(X, y)"
   ]
  },
  {
   "cell_type": "code",
   "execution_count": 25,
   "metadata": {},
   "outputs": [
    {
     "data": {
      "text/html": [
       "<div>\n",
       "<style>\n",
       "    .dataframe thead tr:only-child th {\n",
       "        text-align: right;\n",
       "    }\n",
       "\n",
       "    .dataframe thead th {\n",
       "        text-align: left;\n",
       "    }\n",
       "\n",
       "    .dataframe tbody tr th {\n",
       "        vertical-align: top;\n",
       "    }\n",
       "</style>\n",
       "<table border=\"1\" class=\"dataframe\">\n",
       "  <thead>\n",
       "    <tr style=\"text-align: right;\">\n",
       "      <th></th>\n",
       "      <th>mean_test_score</th>\n",
       "      <th>std_test_score</th>\n",
       "      <th>params</th>\n",
       "    </tr>\n",
       "  </thead>\n",
       "  <tbody>\n",
       "    <tr>\n",
       "      <th>0</th>\n",
       "      <td>0.744054</td>\n",
       "      <td>0.013930</td>\n",
       "      <td>{'n_neighbors': 2, 'weights': 'uniform'}</td>\n",
       "    </tr>\n",
       "    <tr>\n",
       "      <th>1</th>\n",
       "      <td>0.704295</td>\n",
       "      <td>0.015353</td>\n",
       "      <td>{'n_neighbors': 2, 'weights': 'distance'}</td>\n",
       "    </tr>\n",
       "    <tr>\n",
       "      <th>2</th>\n",
       "      <td>0.739794</td>\n",
       "      <td>0.012697</td>\n",
       "      <td>{'n_neighbors': 3, 'weights': 'uniform'}</td>\n",
       "    </tr>\n",
       "    <tr>\n",
       "      <th>3</th>\n",
       "      <td>0.731984</td>\n",
       "      <td>0.015990</td>\n",
       "      <td>{'n_neighbors': 3, 'weights': 'distance'}</td>\n",
       "    </tr>\n",
       "    <tr>\n",
       "      <th>4</th>\n",
       "      <td>0.760028</td>\n",
       "      <td>0.009250</td>\n",
       "      <td>{'n_neighbors': 4, 'weights': 'uniform'}</td>\n",
       "    </tr>\n",
       "  </tbody>\n",
       "</table>\n",
       "</div>"
      ],
      "text/plain": [
       "   mean_test_score  std_test_score                                     params\n",
       "0         0.744054        0.013930   {'n_neighbors': 2, 'weights': 'uniform'}\n",
       "1         0.704295        0.015353  {'n_neighbors': 2, 'weights': 'distance'}\n",
       "2         0.739794        0.012697   {'n_neighbors': 3, 'weights': 'uniform'}\n",
       "3         0.731984        0.015990  {'n_neighbors': 3, 'weights': 'distance'}\n",
       "4         0.760028        0.009250   {'n_neighbors': 4, 'weights': 'uniform'}"
      ]
     },
     "execution_count": 25,
     "metadata": {},
     "output_type": "execute_result"
    }
   ],
   "source": [
    "# View the results\n",
    "pd.DataFrame(grid.cv_results_)[['mean_test_score', 'std_test_score', 'params']].head()"
   ]
  },
  {
   "cell_type": "code",
   "execution_count": 26,
   "metadata": {},
   "outputs": [
    {
     "name": "stdout",
     "output_type": "stream",
     "text": [
      "----------------------------------------------------------------------------------\n",
      "Mean Test Scores (Uniform): [0.744, 0.74, 0.76, 0.752, 0.761, 0.759, 0.762, 0.76, 0.768, 0.765, 0.773, 0.767, 0.774, 0.772, 0.773, 0.769, 0.772, 0.771, 0.772, 0.771, 0.774, 0.772, 0.775, 0.771]\n",
      "----------------------------------------------------------------------------------\n",
      "Mean Test Scores (Distance): [0.704, 0.732, 0.733, 0.742, 0.741, 0.746, 0.742, 0.748, 0.752, 0.753, 0.753, 0.756, 0.755, 0.758, 0.759, 0.759, 0.758, 0.76, 0.76, 0.761, 0.76, 0.761, 0.76, 0.762]\n",
      "----------------------------------------------------------------------------------\n",
      "K-Range Values: [2, 3, 4, 5, 6, 7, 8, 9, 10, 11, 12, 13, 14, 15, 16, 17, 18, 19, 20, 21, 22, 23, 24, 25]\n",
      "----------------------------------------------------------------------------------\n"
     ]
    }
   ],
   "source": [
    "mean_test_scores = grid.cv_results_['mean_test_score']\n",
    "params = grid.cv_results_['params']\n",
    "\n",
    "items = list(range(0, len(params)))\n",
    "weights = []\n",
    "\n",
    "for i in items:\n",
    "    weights.append(params[i]['weights'])\n",
    "\n",
    "results = pd.DataFrame({'scores':mean_test_scores, 'weights':weights})      \n",
    "uniform_scores = results[results.weights == 'uniform'].scores\n",
    "distance_scores = results[results.weights == 'distance'].scores\n",
    "\n",
    "print('----------------------------------------------------------------------------------')\n",
    "print('Mean Test Scores (Uniform):', round(uniform_scores, 3).tolist())\n",
    "print('----------------------------------------------------------------------------------')\n",
    "print('Mean Test Scores (Distance):', round(distance_scores, 3).tolist())\n",
    "print('----------------------------------------------------------------------------------')\n",
    "print('K-Range Values:', k_range)\n",
    "print('----------------------------------------------------------------------------------')"
   ]
  },
  {
   "cell_type": "code",
   "execution_count": 27,
   "metadata": {},
   "outputs": [
    {
     "data": {
      "text/plain": [
       "<matplotlib.text.Text at 0x253af927f28>"
      ]
     },
     "execution_count": 27,
     "metadata": {},
     "output_type": "execute_result"
    },
    {
     "data": {
      "image/png": "[encoded data removed]",
      "text/plain": [
       "<matplotlib.figure.Figure at 0x253adf34c18>"
      ]
     },
     "metadata": {},
     "output_type": "display_data"
    }
   ],
   "source": [
    "# Plot the scores\n",
    "plt.title('Mean Test Scores by Weight')\n",
    "plt.plot(k_range, uniform_scores, color='steelblue', label='Uniform')\n",
    "plt.plot(k_range, distance_scores, color='darkorange', label='Distance')\n",
    "plt.legend(loc='lower right', title='Weights')\n",
    "plt.xlabel('Value of K for KNN')\n",
    "plt.ylabel('Cross-validated Accuracy')"
   ]
  },
  {
   "cell_type": "code",
   "execution_count": 28,
   "metadata": {},
   "outputs": [
    {
     "name": "stdout",
     "output_type": "stream",
     "text": [
      "0.7749378771742989\n",
      "{'n_neighbors': 24, 'weights': 'uniform'}\n",
      "KNeighborsClassifier(algorithm='auto', leaf_size=30, metric='minkowski',\n",
      "           metric_params=None, n_jobs=1, n_neighbors=24, p=2,\n",
      "           weights='uniform')\n"
     ]
    }
   ],
   "source": [
    "# Examine the best score\n",
    "print(grid.best_score_)\n",
    "print(grid.best_params_)\n",
    "print(grid.best_estimator_)"
   ]
  },
  {
   "cell_type": "markdown",
   "metadata": {},
   "source": [
    "#### Use the Best Parameters to Make Predictions Using Hold-Out Data"
   ]
  },
  {
   "cell_type": "code",
   "execution_count": 29,
   "metadata": {},
   "outputs": [
    {
     "name": "stdout",
     "output_type": "stream",
     "text": [
      "-------------------------------------------------------------------\n",
      "Accuracy Score per Fold:  [0.77304965 0.78546099 0.78014184 0.7748227  0.79787234 0.76595745\n",
      " 0.76554174 0.76021314 0.78825623 0.75800712]\n",
      "-------------------------------------------------------------------\n",
      "Average Accuracy Score: 0.775\n",
      "-------------------------------------------------------------------\n",
      "Wall time: 4.32 s\n"
     ]
    }
   ],
   "source": [
    "%%time\n",
    "\n",
    "n_neighbors = grid.best_params_['n_neighbors']\n",
    "weights_option = grid.best_params_['weights']\n",
    "\n",
    "knn = KNeighborsClassifier(n_neighbors = n_neighbors, weights = weights_option)\n",
    "scores = cross_val_score(knn, X, y, cv=10, scoring='accuracy')\n",
    "\n",
    "print('-------------------------------------------------------------------')\n",
    "print(\"Accuracy Score per Fold: \", scores)\n",
    "print('-------------------------------------------------------------------')\n",
    "print(\"Average Accuracy Score: %0.3f\" % scores.mean())\n",
    "print('-------------------------------------------------------------------')"
   ]
  },
  {
   "cell_type": "code",
   "execution_count": null,
   "metadata": {
    "collapsed": true
   },
   "outputs": [],
   "source": []
  }
 ],
 "metadata": {
  "anaconda-cloud": {},
  "kernelspec": {
   "display_name": "Python 3",
   "language": "python",
   "name": "python3"
  },
  "language_info": {
   "codemirror_mode": {
    "name": "ipython",
    "version": 3
   },
   "file_extension": ".py",
   "mimetype": "text/x-python",
   "name": "python",
   "nbconvert_exporter": "python",
   "pygments_lexer": "ipython3",
   "version": "3.5.2"
  }
 },
 "nbformat": 4,
 "nbformat_minor": 1
}
